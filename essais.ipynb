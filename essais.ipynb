{
 "cells": [
  {
   "cell_type": "code",
   "execution_count": 1,
   "metadata": {},
   "outputs": [
    {
     "ename": "NameError",
     "evalue": "name 'df_house' is not defined",
     "output_type": "error",
     "traceback": [
      "\u001b[0;31m---------------------------------------------------------------------------\u001b[0m",
      "\u001b[0;31mNameError\u001b[0m                                 Traceback (most recent call last)",
      "\u001b[1;32m/home/nusbaumer/Documents/Projet final/essais.ipynb Cellule 1\u001b[0m in \u001b[0;36m<cell line: 1>\u001b[0;34m()\u001b[0m\n\u001b[0;32m----> <a href='vscode-notebook-cell:/home/nusbaumer/Documents/Projet%20final/essais.ipynb#ch0000000?line=0'>1</a>\u001b[0m duplicates \u001b[39m=\u001b[39m [df_house\u001b[39m.\u001b[39mduplicated() \u001b[39mfor\u001b[39;00m elt \u001b[39min\u001b[39;00m \u001b[39mrange\u001b[39m(\u001b[39m2163\u001b[39m)]\n\u001b[1;32m      <a href='vscode-notebook-cell:/home/nusbaumer/Documents/Projet%20final/essais.ipynb#ch0000000?line=1'>2</a>\u001b[0m duplicates\n",
      "\u001b[1;32m/home/nusbaumer/Documents/Projet final/essais.ipynb Cellule 1\u001b[0m in \u001b[0;36m<listcomp>\u001b[0;34m(.0)\u001b[0m\n\u001b[0;32m----> <a href='vscode-notebook-cell:/home/nusbaumer/Documents/Projet%20final/essais.ipynb#ch0000000?line=0'>1</a>\u001b[0m duplicates \u001b[39m=\u001b[39m [df_house\u001b[39m.\u001b[39mduplicated() \u001b[39mfor\u001b[39;00m elt \u001b[39min\u001b[39;00m \u001b[39mrange\u001b[39m(\u001b[39m2163\u001b[39m)]\n\u001b[1;32m      <a href='vscode-notebook-cell:/home/nusbaumer/Documents/Projet%20final/essais.ipynb#ch0000000?line=1'>2</a>\u001b[0m duplicates\n",
      "\u001b[0;31mNameError\u001b[0m: name 'df_house' is not defined"
     ]
    }
   ],
   "source": [
    "duplicates = [df_house.duplicated() for elt in range(2163)]\n",
    "duplicates"
   ]
  },
  {
   "cell_type": "code",
   "execution_count": null,
   "metadata": {},
   "outputs": [],
   "source": []
  }
 ],
 "metadata": {
  "kernelspec": {
   "display_name": "Python 3.10.4 64-bit",
   "language": "python",
   "name": "python3"
  },
  "language_info": {
   "codemirror_mode": {
    "name": "ipython",
    "version": 3
   },
   "file_extension": ".py",
   "mimetype": "text/x-python",
   "name": "python",
   "nbconvert_exporter": "python",
   "pygments_lexer": "ipython3",
   "version": "3.10.4"
  },
  "orig_nbformat": 4,
  "vscode": {
   "interpreter": {
    "hash": "916dbcbb3f70747c44a77c7bcd40155683ae19c65e1c03b4aa3499c5328201f1"
   }
  }
 },
 "nbformat": 4,
 "nbformat_minor": 2
}
